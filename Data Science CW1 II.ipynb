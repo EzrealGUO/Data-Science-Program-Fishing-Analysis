{
 "cells": [
  {
   "cell_type": "code",
   "execution_count": 50,
   "id": "30660cb1",
   "metadata": {},
   "outputs": [
    {
     "data": {
      "text/plain": [
       "(400, 3)"
      ]
     },
     "execution_count": 50,
     "metadata": {},
     "output_type": "execute_result"
    }
   ],
   "source": [
    "import pandas as pd\n",
    "import numpy as np\n",
    "\n",
    "%matplotlib inline\n",
    "import matplotlib as plt\n",
    "\n",
    "filename = \"fish1.txt\"\n",
    "\n",
    "time_weight_bait_data = pd.read_csv(filename, sep = \" \", header = None, index_col = None)\n",
    "\n",
    "time_weight_bait_data.shape"
   ]
  },
  {
   "cell_type": "code",
   "execution_count": 51,
   "id": "b13b5399",
   "metadata": {},
   "outputs": [
    {
     "data": {
      "text/html": [
       "<div>\n",
       "<style scoped>\n",
       "    .dataframe tbody tr th:only-of-type {\n",
       "        vertical-align: middle;\n",
       "    }\n",
       "\n",
       "    .dataframe tbody tr th {\n",
       "        vertical-align: top;\n",
       "    }\n",
       "\n",
       "    .dataframe thead th {\n",
       "        text-align: right;\n",
       "    }\n",
       "</style>\n",
       "<table border=\"1\" class=\"dataframe\">\n",
       "  <thead>\n",
       "    <tr style=\"text-align: right;\">\n",
       "      <th></th>\n",
       "      <th>X</th>\n",
       "      <th>Y</th>\n",
       "      <th>Z</th>\n",
       "    </tr>\n",
       "  </thead>\n",
       "  <tbody>\n",
       "    <tr>\n",
       "      <th>0</th>\n",
       "      <td>15.25</td>\n",
       "      <td>2.40</td>\n",
       "      <td>B</td>\n",
       "    </tr>\n",
       "    <tr>\n",
       "      <th>1</th>\n",
       "      <td>7.43</td>\n",
       "      <td>1.66</td>\n",
       "      <td>C</td>\n",
       "    </tr>\n",
       "    <tr>\n",
       "      <th>2</th>\n",
       "      <td>7.17</td>\n",
       "      <td>2.75</td>\n",
       "      <td>C</td>\n",
       "    </tr>\n",
       "    <tr>\n",
       "      <th>3</th>\n",
       "      <td>2.93</td>\n",
       "      <td>1.21</td>\n",
       "      <td>A</td>\n",
       "    </tr>\n",
       "    <tr>\n",
       "      <th>4</th>\n",
       "      <td>11.07</td>\n",
       "      <td>0.39</td>\n",
       "      <td>C</td>\n",
       "    </tr>\n",
       "  </tbody>\n",
       "</table>\n",
       "</div>"
      ],
      "text/plain": [
       "       X     Y  Z\n",
       "0  15.25  2.40  B\n",
       "1   7.43  1.66  C\n",
       "2   7.17  2.75  C\n",
       "3   2.93  1.21  A\n",
       "4  11.07  0.39  C"
      ]
     },
     "execution_count": 51,
     "metadata": {},
     "output_type": "execute_result"
    }
   ],
   "source": [
    "time_weight_bait_data.columns = [\"X\",\"Y\",\"Z\"]\n",
    "time_weight_bait_data.head(5) "
   ]
  },
  {
   "cell_type": "code",
   "execution_count": 52,
   "id": "1e54c028",
   "metadata": {},
   "outputs": [
    {
     "data": {
      "text/html": [
       "<div>\n",
       "<style scoped>\n",
       "    .dataframe tbody tr th:only-of-type {\n",
       "        vertical-align: middle;\n",
       "    }\n",
       "\n",
       "    .dataframe tbody tr th {\n",
       "        vertical-align: top;\n",
       "    }\n",
       "\n",
       "    .dataframe thead th {\n",
       "        text-align: right;\n",
       "    }\n",
       "</style>\n",
       "<table border=\"1\" class=\"dataframe\">\n",
       "  <thead>\n",
       "    <tr style=\"text-align: right;\">\n",
       "      <th></th>\n",
       "      <th>X</th>\n",
       "      <th>Y</th>\n",
       "      <th>Z</th>\n",
       "    </tr>\n",
       "  </thead>\n",
       "  <tbody>\n",
       "    <tr>\n",
       "      <th>55</th>\n",
       "      <td>18.26</td>\n",
       "      <td>0.67</td>\n",
       "      <td>B</td>\n",
       "    </tr>\n",
       "    <tr>\n",
       "      <th>138</th>\n",
       "      <td>2.09</td>\n",
       "      <td>0.87</td>\n",
       "      <td>C</td>\n",
       "    </tr>\n",
       "    <tr>\n",
       "      <th>361</th>\n",
       "      <td>17.27</td>\n",
       "      <td>0.85</td>\n",
       "      <td>B</td>\n",
       "    </tr>\n",
       "    <tr>\n",
       "      <th>373</th>\n",
       "      <td>3.38</td>\n",
       "      <td>2.79</td>\n",
       "      <td>B</td>\n",
       "    </tr>\n",
       "    <tr>\n",
       "      <th>149</th>\n",
       "      <td>14.08</td>\n",
       "      <td>1.12</td>\n",
       "      <td>B</td>\n",
       "    </tr>\n",
       "  </tbody>\n",
       "</table>\n",
       "</div>"
      ],
      "text/plain": [
       "         X     Y  Z\n",
       "55   18.26  0.67  B\n",
       "138   2.09  0.87  C\n",
       "361  17.27  0.85  B\n",
       "373   3.38  2.79  B\n",
       "149  14.08  1.12  B"
      ]
     },
     "execution_count": 52,
     "metadata": {},
     "output_type": "execute_result"
    }
   ],
   "source": [
    "time_weight_bait_data.sample(5) "
   ]
  },
  {
   "cell_type": "code",
   "execution_count": 53,
   "id": "3d368f1a",
   "metadata": {},
   "outputs": [
    {
     "data": {
      "text/plain": [
       "array([[<AxesSubplot:title={'center':'X'}>,\n",
       "        <AxesSubplot:title={'center':'Y'}>]], dtype=object)"
      ]
     },
     "execution_count": 53,
     "metadata": {},
     "output_type": "execute_result"
    },
    {
     "data": {
      "image/png": "[encoded data removed]",
      "text/plain": [
       "<Figure size 432x288 with 2 Axes>"
      ]
     },
     "metadata": {
      "needs_background": "light"
     },
     "output_type": "display_data"
    }
   ],
   "source": [
    "time_weight_bait_data.hist() "
   ]
  },
  {
   "cell_type": "code",
   "execution_count": 54,
   "id": "c6107657",
   "metadata": {},
   "outputs": [
    {
     "data": {
      "text/plain": [
       "array([[<AxesSubplot:title={'center':'Y'}>]], dtype=object)"
      ]
     },
     "execution_count": 54,
     "metadata": {},
     "output_type": "execute_result"
    },
    {
     "data": {
      "image/png": "[encoded data removed]",
      "text/plain": [
       "<Figure size 432x288 with 1 Axes>"
      ]
     },
     "metadata": {
      "needs_background": "light"
     },
     "output_type": "display_data"
    }
   ],
   "source": [
    "time_weight_bait_data.hist(column = \"Y\", grid = False, bins = 100) "
   ]
  },
  {
   "cell_type": "code",
   "execution_count": 55,
   "id": "ef9dd2e7",
   "metadata": {},
   "outputs": [
    {
     "data": {
      "image/png": "[encoded data removed]",
      "text/plain": [
       "<Figure size 360x360 with 1 Axes>"
      ]
     },
     "metadata": {
      "needs_background": "light"
     },
     "output_type": "display_data"
    }
   ],
   "source": [
    "import matplotlib.pyplot as plt\n",
    "fig,ax = plt.subplots(figsize = (5,5))\n",
    "ax.hist(time_weight_bait_data[\"Y\"],bins =50)\n",
    "ax.set_xlabel(\"Size of Catch\")\n",
    "ax.set_ylabel(\"Count\")\n",
    "ax.set_title(\"Distribution of Y Values (Bins = 50)\")\n",
    "plt.savefig(\"Ybins50.png\") \n"
   ]
  },
  {
   "cell_type": "code",
   "execution_count": 56,
   "id": "880911de",
   "metadata": {},
   "outputs": [
    {
     "data": {
      "image/png": "[encoded data removed]",
      "text/plain": [
       "<Figure size 360x360 with 1 Axes>"
      ]
     },
     "metadata": {
      "needs_background": "light"
     },
     "output_type": "display_data"
    }
   ],
   "source": [
    "import matplotlib.pyplot as plt\n",
    "fig,ax = plt.subplots(figsize = (5,5))\n",
    "ax.hist(time_weight_bait_data[\"Y\"],bins =30)\n",
    "ax.set_title(\"Distribution of Y Values (Bins = 30)\")\n",
    "ax.set_xlabel(\"Size of Catch\")\n",
    "ax.set_ylabel(\"Count\")\n",
    "plt.savefig(\"Ybins30.png\") \n",
    " "
   ]
  },
  {
   "cell_type": "code",
   "execution_count": 57,
   "id": "b8df7599",
   "metadata": {},
   "outputs": [
    {
     "data": {
      "image/png": "[encoded data removed]",
      "text/plain": [
       "<Figure size 360x360 with 1 Axes>"
      ]
     },
     "metadata": {
      "needs_background": "light"
     },
     "output_type": "display_data"
    }
   ],
   "source": [
    "import matplotlib.pyplot as plt\n",
    "fig,ax = plt.subplots(figsize = (5,5))\n",
    "ax.hist(time_weight_bait_data[\"Y\"],bins =20)\n",
    "ax.set_title(\"Distribution of Y Values (Bins = 20)\")\n",
    "ax.set_xlabel(\"Size of Catch\")\n",
    "ax.set_ylabel(\"Count\")\n",
    "plt.savefig(\"Ybins20.png\")  "
   ]
  },
  {
   "cell_type": "code",
   "execution_count": 58,
   "id": "13f8c462",
   "metadata": {},
   "outputs": [
    {
     "data": {
      "image/png": "[encoded data removed]",
      "text/plain": [
       "<Figure size 360x360 with 1 Axes>"
      ]
     },
     "metadata": {
      "needs_background": "light"
     },
     "output_type": "display_data"
    }
   ],
   "source": [
    "import matplotlib.pyplot as plt\n",
    "fig,ax = plt.subplots(figsize = (5,5))\n",
    "ax.hist(time_weight_bait_data[\"Y\"])\n",
    "ax.set_xlabel(\"Size of Catch\")\n",
    "ax.set_ylabel(\"Count\")\n",
    "ax.set_title(\"Distribution of Y Values (Bins = 10)\")\n",
    "plt.savefig(\"Ybins10.png\")  "
   ]
  },
  {
   "cell_type": "code",
   "execution_count": 59,
   "id": "2fdbd31a",
   "metadata": {},
   "outputs": [
    {
     "data": {
      "text/plain": [
       "array([[<AxesSubplot:title={'center':'X'}>]], dtype=object)"
      ]
     },
     "execution_count": 59,
     "metadata": {},
     "output_type": "execute_result"
    },
    {
     "data": {
      "image/png": "[encoded data removed]",
      "text/plain": [
       "<Figure size 432x288 with 1 Axes>"
      ]
     },
     "metadata": {
      "needs_background": "light"
     },
     "output_type": "display_data"
    }
   ],
   "source": [
    "time_weight_bait_data.hist(column = \"X\", grid = False, bins = 100) "
   ]
  },
  {
   "cell_type": "code",
   "execution_count": 60,
   "id": "4a02b32e",
   "metadata": {},
   "outputs": [
    {
     "data": {
      "image/png": "[encoded data removed]",
      "text/plain": [
       "<Figure size 360x360 with 1 Axes>"
      ]
     },
     "metadata": {
      "needs_background": "light"
     },
     "output_type": "display_data"
    }
   ],
   "source": [
    "import matplotlib.pyplot as plt\n",
    "fig,ax = plt.subplots(figsize = (5,5))\n",
    "ax.hist(time_weight_bait_data[\"X\"], bins = 50)\n",
    "ax.set_title(\"Distribution of X Values (Bins = 50)\")\n",
    "ax.set_xlabel(\"Time of Catch\")\n",
    "ax.set_ylabel(\"Count\")\n",
    "plt.savefig(\"Xbins50.png\")   "
   ]
  },
  {
   "cell_type": "code",
   "execution_count": 61,
   "id": "9f71e775",
   "metadata": {},
   "outputs": [
    {
     "data": {
      "image/png": "[encoded data removed]",
      "text/plain": [
       "<Figure size 360x360 with 1 Axes>"
      ]
     },
     "metadata": {
      "needs_background": "light"
     },
     "output_type": "display_data"
    }
   ],
   "source": [
    "import matplotlib.pyplot as plt\n",
    "fig,ax = plt.subplots(figsize = (5,5))\n",
    "ax.hist(time_weight_bait_data[\"X\"], bins = 30)\n",
    "ax.set_title(\"Distribution of X Values (Bins = 30)\")\n",
    "ax.set_xlabel(\"Time of Catch\")\n",
    "ax.set_ylabel(\"Count\")\n",
    "plt.savefig(\"Xbins30.png\")    "
   ]
  },
  {
   "cell_type": "code",
   "execution_count": 73,
   "id": "9be92199",
   "metadata": {},
   "outputs": [
    {
     "data": {
      "image/png": "[encoded data removed]",
      "text/plain": [
       "<Figure size 360x360 with 1 Axes>"
      ]
     },
     "metadata": {
      "needs_background": "light"
     },
     "output_type": "display_data"
    }
   ],
   "source": [
    "import matplotlib.pyplot as plt\n",
    "fig,ax = plt.subplots(figsize = (5,5))\n",
    "ax.hist(time_weight_bait_data[\"X\"], bins = 20)\n",
    "ax.set_title(\"Distribution of X Values (Bins = 20)\")\n",
    "ax.set_xlabel(\"Time of Catch\")\n",
    "ax.set_ylabel(\"Count\")\n",
    "plt.savefig(\"Xbins20.png\")    "
   ]
  },
  {
   "cell_type": "code",
   "execution_count": 74,
   "id": "beda7366",
   "metadata": {},
   "outputs": [
    {
     "data": {
      "image/png": "[encoded data removed]",
      "text/plain": [
       "<Figure size 360x360 with 1 Axes>"
      ]
     },
     "metadata": {
      "needs_background": "light"
     },
     "output_type": "display_data"
    }
   ],
   "source": [
    "import matplotlib.pyplot as plt\n",
    "fig,ax = plt.subplots(figsize = (5,5))\n",
    "ax.hist(time_weight_bait_data[\"X\"])\n",
    "ax.set_title(\"Distribution of X Values (Bins = 10)\")\n",
    "ax.set_xlabel(\"Time of Catch\")\n",
    "ax.set_ylabel(\"Count\")\n",
    "plt.savefig(\"Xbins10.png\")    "
   ]
  },
  {
   "cell_type": "code",
   "execution_count": 64,
   "id": "daf0694c",
   "metadata": {},
   "outputs": [
    {
     "data": {
      "text/html": [
       "<div>\n",
       "<style scoped>\n",
       "    .dataframe tbody tr th:only-of-type {\n",
       "        vertical-align: middle;\n",
       "    }\n",
       "\n",
       "    .dataframe tbody tr th {\n",
       "        vertical-align: top;\n",
       "    }\n",
       "\n",
       "    .dataframe thead th {\n",
       "        text-align: right;\n",
       "    }\n",
       "</style>\n",
       "<table border=\"1\" class=\"dataframe\">\n",
       "  <thead>\n",
       "    <tr style=\"text-align: right;\">\n",
       "      <th></th>\n",
       "      <th>X</th>\n",
       "      <th>Y</th>\n",
       "    </tr>\n",
       "  </thead>\n",
       "  <tbody>\n",
       "    <tr>\n",
       "      <th>count</th>\n",
       "      <td>400.000000</td>\n",
       "      <td>400.00000</td>\n",
       "    </tr>\n",
       "    <tr>\n",
       "      <th>mean</th>\n",
       "      <td>9.370525</td>\n",
       "      <td>1.66740</td>\n",
       "    </tr>\n",
       "    <tr>\n",
       "      <th>std</th>\n",
       "      <td>5.796400</td>\n",
       "      <td>1.10816</td>\n",
       "    </tr>\n",
       "    <tr>\n",
       "      <th>min</th>\n",
       "      <td>0.010000</td>\n",
       "      <td>0.01000</td>\n",
       "    </tr>\n",
       "    <tr>\n",
       "      <th>25%</th>\n",
       "      <td>4.325000</td>\n",
       "      <td>0.70750</td>\n",
       "    </tr>\n",
       "    <tr>\n",
       "      <th>50%</th>\n",
       "      <td>9.020000</td>\n",
       "      <td>1.61500</td>\n",
       "    </tr>\n",
       "    <tr>\n",
       "      <th>75%</th>\n",
       "      <td>13.747500</td>\n",
       "      <td>2.40000</td>\n",
       "    </tr>\n",
       "    <tr>\n",
       "      <th>max</th>\n",
       "      <td>22.270000</td>\n",
       "      <td>4.88000</td>\n",
       "    </tr>\n",
       "  </tbody>\n",
       "</table>\n",
       "</div>"
      ],
      "text/plain": [
       "                X          Y\n",
       "count  400.000000  400.00000\n",
       "mean     9.370525    1.66740\n",
       "std      5.796400    1.10816\n",
       "min      0.010000    0.01000\n",
       "25%      4.325000    0.70750\n",
       "50%      9.020000    1.61500\n",
       "75%     13.747500    2.40000\n",
       "max     22.270000    4.88000"
      ]
     },
     "execution_count": 64,
     "metadata": {},
     "output_type": "execute_result"
    }
   ],
   "source": [
    "from scipy import stats\n",
    "time_weight_bait_data.describe()"
   ]
  },
  {
   "cell_type": "code",
   "execution_count": 68,
   "id": "8d682d7d",
   "metadata": {},
   "outputs": [
    {
     "name": "stdout",
     "output_type": "stream",
     "text": [
      "9.370524999999999\n",
      "5.796400445075735\n",
      "9.02\n",
      "0.01 22.27\n",
      "1.959963984540054\n",
      "5.80365955931041\n",
      "(-2.0044387147800062, 20.745488714780002)\n",
      "-2.0044387147800062 20.745488714780002\n",
      "0.26685567775976227\n",
      "-0.9465938204793667\n"
     ]
    }
   ],
   "source": [
    "import math\n",
    "from scipy.stats import norm\n",
    "# X\n",
    "meanX = time_weight_bait_data['X'].mean()\n",
    "print(meanX)\n",
    "stdX = time_weight_bait_data['X'].std()\n",
    "print(stdX)\n",
    "medianX = time_weight_bait_data['X'].median()\n",
    "print(medianX)\n",
    "\n",
    "minX = time_weight_bait_data['X'].min()\n",
    "maxX = time_weight_bait_data['X'].max()\n",
    "print(minX,maxX)\n",
    "normX = norm.ppf(0.975)\n",
    "print(normX)\n",
    "stdTotalX = math.sqrt(400/399)*stdX\n",
    "print(stdTotalX)\n",
    "upper = meanX + normX*stdTotalX\n",
    "lower = meanX - normX*stdTotalX\n",
    "interval = stats.norm.interval(0.95,loc = meanX,scale = stdTotalX)\n",
    "print(interval)\n",
    "print(lower,upper)\n",
    "skewX = time_weight_bait_data['X'].skew()\n",
    "print(skewX)\n",
    "kurtosisX = time_weight_bait_data['X'].kurtosis()\n",
    "print(kurtosisX)"
   ]
  },
  {
   "cell_type": "code",
   "execution_count": 70,
   "id": "f08476c7",
   "metadata": {},
   "outputs": [
    {
     "name": "stdout",
     "output_type": "stream",
     "text": [
      "1.6674000000000015\n",
      "1.108159638527389\n",
      "1.6150000000000002\n",
      "0.01 4.88\n",
      "1.959963984540054\n",
      "1.1095474407475\n",
      "(-0.5072730230036879, 3.842073023003691)\n",
      "-0.5072730230036879 3.842073023003691\n",
      "0.6537928748818763\n",
      "0.1618912656573923\n"
     ]
    }
   ],
   "source": [
    "from scipy.stats import norm\n",
    "# Y\n",
    "meanY = time_weight_bait_data['Y'].mean()\n",
    "print(meanY)\n",
    "stdY = time_weight_bait_data['Y'].std()\n",
    "print(stdY)\n",
    "medianY = time_weight_bait_data['Y'].median()\n",
    "print(medianY)\n",
    "minY = time_weight_bait_data['Y'].min()\n",
    "maxY = time_weight_bait_data['Y'].max()\n",
    "print(minY,maxY)\n",
    "normY = norm.ppf(0.975)\n",
    "print(normX)\n",
    "stdTotalY = math.sqrt(400/399)*stdY\n",
    "print(stdTotalY)\n",
    "upper = meanY + normY*stdTotalY\n",
    "lower = meanY - normX*stdTotalY\n",
    "interval = stats.norm.interval(0.95,loc = meanY,scale = stdTotalY)\n",
    "print(interval)\n",
    "print(lower,upper)\n",
    "skewY = time_weight_bait_data['Y'].skew()\n",
    "print(skewY)\n",
    "kurtosisY = time_weight_bait_data['Y'].kurtosis()\n",
    "print(kurtosisY)\n",
    "\n"
   ]
  },
  {
   "cell_type": "code",
   "execution_count": null,
   "id": "5c05c0e0",
   "metadata": {},
   "outputs": [],
   "source": []
  }
 ],
 "metadata": {
  "kernelspec": {
   "display_name": "Python 3",
   "language": "python",
   "name": "python3"
  },
  "language_info": {
   "codemirror_mode": {
    "name": "ipython",
    "version": 3
   },
   "file_extension": ".py",
   "mimetype": "text/x-python",
   "name": "python",
   "nbconvert_exporter": "python",
   "pygments_lexer": "ipython3",
   "version": "3.8.8"
  }
 },
 "nbformat": 4,
 "nbformat_minor": 5
}
