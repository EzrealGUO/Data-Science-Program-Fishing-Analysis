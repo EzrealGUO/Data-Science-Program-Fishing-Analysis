{
 "cells": [
  {
   "cell_type": "code",
   "execution_count": 115,
   "id": "7797a37d",
   "metadata": {},
   "outputs": [
    {
     "name": "stdout",
     "output_type": "stream",
     "text": [
      "         0     1  2\n",
      "0    15.25  2.40  B\n",
      "1     7.43  1.66  C\n",
      "2     7.17  2.75  C\n",
      "3     2.93  1.21  A\n",
      "4    11.07  0.39  C\n",
      "..     ...   ... ..\n",
      "395   8.34  0.83  A\n",
      "396  14.37  2.67  C\n",
      "397   2.63  3.55  C\n",
      "398   7.28  1.05  A\n",
      "399  12.38  0.87  C\n",
      "\n",
      "[400 rows x 3 columns]\n",
      "[[15.25 2.4 'B']\n",
      " [7.43 1.66 'C']\n",
      " [7.17 2.75 'C']\n",
      " ...\n",
      " [2.63 3.55 'C']\n",
      " [7.28 1.05 'A']\n",
      " [12.38 0.87 'C']]\n"
     ]
    }
   ],
   "source": [
    "import pandas as pd\n",
    "import numpy as np\n",
    "filename = \"fish1.txt\"\n",
    "from pandas import DataFrame\n",
    "bait = pd.read_csv(filename, sep = \" \", header = None)\n",
    "print(bait)\n",
    "bait0 = np.array(bait)\n",
    "print(bait0)\n"
   ]
  },
  {
   "cell_type": "code",
   "execution_count": 151,
   "id": "168566bf",
   "metadata": {
    "scrolled": false
   },
   "outputs": [
    {
     "name": "stdout",
     "output_type": "stream",
     "text": [
      "        X     Y  Z\n",
      "0    2.93  1.21  A\n",
      "1    4.29  1.84  A\n",
      "2    4.08  1.05  A\n",
      "3    3.11  2.49  A\n",
      "4    3.33  3.97  A\n",
      "..    ...   ... ..\n",
      "74  12.08  1.27  A\n",
      "75   3.03  2.85  A\n",
      "76   5.22  1.26  A\n",
      "77   8.34  0.83  A\n",
      "78   7.28  1.05  A\n",
      "\n",
      "[79 rows x 3 columns]\n"
     ]
    },
    {
     "data": {
      "text/html": [
       "<div>\n",
       "<style scoped>\n",
       "    .dataframe tbody tr th:only-of-type {\n",
       "        vertical-align: middle;\n",
       "    }\n",
       "\n",
       "    .dataframe tbody tr th {\n",
       "        vertical-align: top;\n",
       "    }\n",
       "\n",
       "    .dataframe thead th {\n",
       "        text-align: right;\n",
       "    }\n",
       "</style>\n",
       "<table border=\"1\" class=\"dataframe\">\n",
       "  <thead>\n",
       "    <tr style=\"text-align: right;\">\n",
       "      <th></th>\n",
       "      <th>X</th>\n",
       "      <th>Y</th>\n",
       "    </tr>\n",
       "  </thead>\n",
       "  <tbody>\n",
       "    <tr>\n",
       "      <th>count</th>\n",
       "      <td>79.000000</td>\n",
       "      <td>79.000000</td>\n",
       "    </tr>\n",
       "    <tr>\n",
       "      <th>mean</th>\n",
       "      <td>5.849747</td>\n",
       "      <td>1.528987</td>\n",
       "    </tr>\n",
       "    <tr>\n",
       "      <th>std</th>\n",
       "      <td>5.247670</td>\n",
       "      <td>1.012441</td>\n",
       "    </tr>\n",
       "    <tr>\n",
       "      <th>min</th>\n",
       "      <td>0.260000</td>\n",
       "      <td>0.010000</td>\n",
       "    </tr>\n",
       "    <tr>\n",
       "      <th>25%</th>\n",
       "      <td>1.975000</td>\n",
       "      <td>0.780000</td>\n",
       "    </tr>\n",
       "    <tr>\n",
       "      <th>50%</th>\n",
       "      <td>3.570000</td>\n",
       "      <td>1.340000</td>\n",
       "    </tr>\n",
       "    <tr>\n",
       "      <th>75%</th>\n",
       "      <td>8.465000</td>\n",
       "      <td>2.085000</td>\n",
       "    </tr>\n",
       "    <tr>\n",
       "      <th>max</th>\n",
       "      <td>20.790000</td>\n",
       "      <td>4.880000</td>\n",
       "    </tr>\n",
       "  </tbody>\n",
       "</table>\n",
       "</div>"
      ],
      "text/plain": [
       "               X          Y\n",
       "count  79.000000  79.000000\n",
       "mean    5.849747   1.528987\n",
       "std     5.247670   1.012441\n",
       "min     0.260000   0.010000\n",
       "25%     1.975000   0.780000\n",
       "50%     3.570000   1.340000\n",
       "75%     8.465000   2.085000\n",
       "max    20.790000   4.880000"
      ]
     },
     "execution_count": 151,
     "metadata": {},
     "output_type": "execute_result"
    },
    {
     "data": {
      "image/png": "[encoded data removed]",
      "text/plain": [
       "<Figure size 432x288 with 2 Axes>"
      ]
     },
     "metadata": {},
     "output_type": "display_data"
    },
    {
     "data": {
      "image/png": "[encoded data removed]",
      "text/plain": [
       "<Figure size 432x288 with 1 Axes>"
      ]
     },
     "metadata": {},
     "output_type": "display_data"
    },
    {
     "data": {
      "image/png": "[encoded data removed]",
      "text/plain": [
       "<Figure size 360x360 with 1 Axes>"
      ]
     },
     "metadata": {},
     "output_type": "display_data"
    }
   ],
   "source": [
    "import matplotlib.pyplot as plt\n",
    "dataA=[]\n",
    "for item in bait0:\n",
    "    sh= item[-1] \n",
    "    if \"A\" ==sh:\n",
    "       # print(item)\n",
    "        dataA.append(item)\n",
    "baitA = pd.DataFrame(dataA, columns = [\"X\",\"Y\",\"Z\"])\n",
    "print(baitA)\n",
    "baitA.hist(bins = 50) \n",
    "baitA.hist(column = \"Y\", grid = False, bins = 50) \n",
    "A = baitA.values\n",
    "fig, ax = plt.subplots(figsize=(5,5))\n",
    "ax.scatter(A[:,0] ,A[:,1] , c=\"red\", s=2)\n",
    "\n",
    "from scipy import stats\n",
    "import scipy.stats as sci\n",
    "#Use thre pearsonr method to find the correlation details\n",
    "#Is it positive or negative\n",
    "#Is it statistically significant\n",
    "stats.pearsonr(baitA[\"X\"],baitA[\"Y\"])\n",
    "baitA.describe()"
   ]
  },
  {
   "cell_type": "code",
   "execution_count": 150,
   "id": "0cf31c89",
   "metadata": {},
   "outputs": [
    {
     "name": "stdout",
     "output_type": "stream",
     "text": [
      "        X     Y  Z\n",
      "0   15.25  2.40  B\n",
      "1   18.90  4.75  B\n",
      "2   10.27  2.72  B\n",
      "3    8.21  0.16  B\n",
      "4    0.72  0.61  B\n",
      "..    ...   ... ..\n",
      "59  17.27  0.85  B\n",
      "60   3.38  2.79  B\n",
      "61   4.22  2.16  B\n",
      "62  16.16  2.57  B\n",
      "63   2.31  2.52  B\n",
      "\n",
      "[64 rows x 3 columns]\n"
     ]
    },
    {
     "data": {
      "text/html": [
       "<div>\n",
       "<style scoped>\n",
       "    .dataframe tbody tr th:only-of-type {\n",
       "        vertical-align: middle;\n",
       "    }\n",
       "\n",
       "    .dataframe tbody tr th {\n",
       "        vertical-align: top;\n",
       "    }\n",
       "\n",
       "    .dataframe thead th {\n",
       "        text-align: right;\n",
       "    }\n",
       "</style>\n",
       "<table border=\"1\" class=\"dataframe\">\n",
       "  <thead>\n",
       "    <tr style=\"text-align: right;\">\n",
       "      <th></th>\n",
       "      <th>X</th>\n",
       "      <th>Y</th>\n",
       "    </tr>\n",
       "  </thead>\n",
       "  <tbody>\n",
       "    <tr>\n",
       "      <th>count</th>\n",
       "      <td>64.000000</td>\n",
       "      <td>64.000000</td>\n",
       "    </tr>\n",
       "    <tr>\n",
       "      <th>mean</th>\n",
       "      <td>10.384219</td>\n",
       "      <td>1.783750</td>\n",
       "    </tr>\n",
       "    <tr>\n",
       "      <th>std</th>\n",
       "      <td>5.702955</td>\n",
       "      <td>1.078417</td>\n",
       "    </tr>\n",
       "    <tr>\n",
       "      <th>min</th>\n",
       "      <td>0.140000</td>\n",
       "      <td>0.160000</td>\n",
       "    </tr>\n",
       "    <tr>\n",
       "      <th>25%</th>\n",
       "      <td>5.280000</td>\n",
       "      <td>0.785000</td>\n",
       "    </tr>\n",
       "    <tr>\n",
       "      <th>50%</th>\n",
       "      <td>10.240000</td>\n",
       "      <td>1.790000</td>\n",
       "    </tr>\n",
       "    <tr>\n",
       "      <th>75%</th>\n",
       "      <td>15.330000</td>\n",
       "      <td>2.405000</td>\n",
       "    </tr>\n",
       "    <tr>\n",
       "      <th>max</th>\n",
       "      <td>20.160000</td>\n",
       "      <td>4.750000</td>\n",
       "    </tr>\n",
       "  </tbody>\n",
       "</table>\n",
       "</div>"
      ],
      "text/plain": [
       "               X          Y\n",
       "count  64.000000  64.000000\n",
       "mean   10.384219   1.783750\n",
       "std     5.702955   1.078417\n",
       "min     0.140000   0.160000\n",
       "25%     5.280000   0.785000\n",
       "50%    10.240000   1.790000\n",
       "75%    15.330000   2.405000\n",
       "max    20.160000   4.750000"
      ]
     },
     "execution_count": 150,
     "metadata": {},
     "output_type": "execute_result"
    },
    {
     "data": {
      "image/png": "[encoded data removed]",
      "text/plain": [
       "<Figure size 432x288 with 2 Axes>"
      ]
     },
     "metadata": {},
     "output_type": "display_data"
    },
    {
     "data": {
      "image/png": "[encoded data removed]",
      "text/plain": [
       "<Figure size 432x288 with 1 Axes>"
      ]
     },
     "metadata": {},
     "output_type": "display_data"
    },
    {
     "data": {
      "image/png": "[encoded data removed]",
      "text/plain": [
       "<Figure size 360x360 with 1 Axes>"
      ]
     },
     "metadata": {},
     "output_type": "display_data"
    }
   ],
   "source": [
    "dataB=[]\n",
    "for item in bait0:\n",
    "    sh= item[-1] \n",
    "    if \"B\" ==sh:\n",
    "       # print(item)\n",
    "        dataB.append(item)\n",
    "baitB = pd.DataFrame(dataB, columns = [\"X\",\"Y\",\"Z\"])\n",
    "print(baitB)\n",
    "baitB.hist(bins = 50) \n",
    "baitB.hist(column = \"Y\", grid = False, bins = 50) \n",
    "B = baitB.values\n",
    "fig, ax = plt.subplots(figsize=(5,5))\n",
    "ax.scatter(B[:,0] ,B[:,1] , c=\"orange\", s=2)\n",
    "stats.pearsonr(baitB[\"X\"],baitB[\"Y\"])\n",
    "baitB.describe()"
   ]
  },
  {
   "cell_type": "code",
   "execution_count": 149,
   "id": "1644fc90",
   "metadata": {},
   "outputs": [
    {
     "name": "stdout",
     "output_type": "stream",
     "text": [
      "         X     Y  Z\n",
      "0     7.43  1.66  C\n",
      "1     7.17  2.75  C\n",
      "2    11.07  0.39  C\n",
      "3    12.61  2.92  C\n",
      "4    11.69  2.67  C\n",
      "..     ...   ... ..\n",
      "252   4.72  2.88  C\n",
      "253  11.27  1.96  C\n",
      "254  14.37  2.67  C\n",
      "255   2.63  3.55  C\n",
      "256  12.38  0.87  C\n",
      "\n",
      "[257 rows x 3 columns]\n"
     ]
    },
    {
     "data": {
      "text/html": [
       "<div>\n",
       "<style scoped>\n",
       "    .dataframe tbody tr th:only-of-type {\n",
       "        vertical-align: middle;\n",
       "    }\n",
       "\n",
       "    .dataframe tbody tr th {\n",
       "        vertical-align: top;\n",
       "    }\n",
       "\n",
       "    .dataframe thead th {\n",
       "        text-align: right;\n",
       "    }\n",
       "</style>\n",
       "<table border=\"1\" class=\"dataframe\">\n",
       "  <thead>\n",
       "    <tr style=\"text-align: right;\">\n",
       "      <th></th>\n",
       "      <th>X</th>\n",
       "      <th>Y</th>\n",
       "    </tr>\n",
       "  </thead>\n",
       "  <tbody>\n",
       "    <tr>\n",
       "      <th>count</th>\n",
       "      <td>257.000000</td>\n",
       "      <td>257.000000</td>\n",
       "    </tr>\n",
       "    <tr>\n",
       "      <th>mean</th>\n",
       "      <td>10.200350</td>\n",
       "      <td>1.680973</td>\n",
       "    </tr>\n",
       "    <tr>\n",
       "      <th>std</th>\n",
       "      <td>5.585533</td>\n",
       "      <td>1.142795</td>\n",
       "    </tr>\n",
       "    <tr>\n",
       "      <th>min</th>\n",
       "      <td>0.010000</td>\n",
       "      <td>0.010000</td>\n",
       "    </tr>\n",
       "    <tr>\n",
       "      <th>25%</th>\n",
       "      <td>5.690000</td>\n",
       "      <td>0.700000</td>\n",
       "    </tr>\n",
       "    <tr>\n",
       "      <th>50%</th>\n",
       "      <td>10.490000</td>\n",
       "      <td>1.660000</td>\n",
       "    </tr>\n",
       "    <tr>\n",
       "      <th>75%</th>\n",
       "      <td>14.290000</td>\n",
       "      <td>2.460000</td>\n",
       "    </tr>\n",
       "    <tr>\n",
       "      <th>max</th>\n",
       "      <td>22.270000</td>\n",
       "      <td>4.870000</td>\n",
       "    </tr>\n",
       "  </tbody>\n",
       "</table>\n",
       "</div>"
      ],
      "text/plain": [
       "                X           Y\n",
       "count  257.000000  257.000000\n",
       "mean    10.200350    1.680973\n",
       "std      5.585533    1.142795\n",
       "min      0.010000    0.010000\n",
       "25%      5.690000    0.700000\n",
       "50%     10.490000    1.660000\n",
       "75%     14.290000    2.460000\n",
       "max     22.270000    4.870000"
      ]
     },
     "execution_count": 149,
     "metadata": {},
     "output_type": "execute_result"
    },
    {
     "data": {
      "image/png": "[encoded data removed]",
      "text/plain": [
       "<Figure size 432x288 with 2 Axes>"
      ]
     },
     "metadata": {},
     "output_type": "display_data"
    },
    {
     "data": {
      "image/png": "[encoded data removed]",
      "text/plain": [
       "<Figure size 432x288 with 1 Axes>"
      ]
     },
     "metadata": {},
     "output_type": "display_data"
    },
    {
     "data": {
      "image/png": "[encoded data removed]",
      "text/plain": [
       "<Figure size 360x360 with 1 Axes>"
      ]
     },
     "metadata": {},
     "output_type": "display_data"
    }
   ],
   "source": [
    "dataC=[]\n",
    "for item in bait0:\n",
    "    sh= item[-1] \n",
    "    if \"C\" ==sh:\n",
    "       # print(item)\n",
    "        dataC.append(item)\n",
    "baitC = pd.DataFrame(dataC, columns = [\"X\",\"Y\",\"Z\"])\n",
    "print(baitC)\n",
    "baitC.hist(bins = 50) \n",
    "baitC.hist(column = \"Y\", grid = False, bins = 50) \n",
    "C = baitC.values\n",
    "fig, ax = plt.subplots(figsize=(5,5))\n",
    "ax.scatter(C[:,0] ,C[:,1] , c=\"blue\", s=2)\n",
    "stats.pearsonr(baitC[\"X\"],baitC[\"Y\"])\n",
    "baitC.describe()"
   ]
  },
  {
   "cell_type": "code",
   "execution_count": 119,
   "id": "3840a831",
   "metadata": {
    "scrolled": false
   },
   "outputs": [
    {
     "data": {
      "image/png": "[encoded data removed]",
      "text/plain": [
       "<Figure size 360x360 with 1 Axes>"
      ]
     },
     "metadata": {},
     "output_type": "display_data"
    }
   ],
   "source": [
    "fig, ax = plt.subplots(figsize=(5,5))\n",
    "ax.scatter(A[:,0] ,A[:,1] , c=\"red\", s=10, label = 'baitA')\n",
    "ax.scatter(B[:,0] ,B[:,1] , c=\"orange\", s=10,label = 'baitB')\n",
    "ax.scatter(C[:,0] ,C[:,1] , c=\"blue\", s=10,label = 'baitC')\n",
    "ax.set_xlabel(\"Time of Catch\")\n",
    "ax.set_ylabel(\"Size of Catch\")\n",
    "ax.set_title(\"Scatters of the Catching Data Distribution\")\n",
    "plt.savefig(\"Scatters of the Catching Data Distribution.png\")"
   ]
  },
  {
   "cell_type": "code",
   "execution_count": 14,
   "id": "f4535456",
   "metadata": {
    "scrolled": false
   },
   "outputs": [
    {
     "data": {
      "text/html": [
       "<div>\n",
       "<style scoped>\n",
       "    .dataframe tbody tr th:only-of-type {\n",
       "        vertical-align: middle;\n",
       "    }\n",
       "\n",
       "    .dataframe tbody tr th {\n",
       "        vertical-align: top;\n",
       "    }\n",
       "\n",
       "    .dataframe thead th {\n",
       "        text-align: right;\n",
       "    }\n",
       "</style>\n",
       "<table border=\"1\" class=\"dataframe\">\n",
       "  <thead>\n",
       "    <tr style=\"text-align: right;\">\n",
       "      <th></th>\n",
       "      <th>X</th>\n",
       "      <th>Y</th>\n",
       "    </tr>\n",
       "  </thead>\n",
       "  <tbody>\n",
       "    <tr>\n",
       "      <th>count</th>\n",
       "      <td>79.000000</td>\n",
       "      <td>79.000000</td>\n",
       "    </tr>\n",
       "    <tr>\n",
       "      <th>mean</th>\n",
       "      <td>5.849747</td>\n",
       "      <td>1.528987</td>\n",
       "    </tr>\n",
       "    <tr>\n",
       "      <th>std</th>\n",
       "      <td>5.247670</td>\n",
       "      <td>1.012441</td>\n",
       "    </tr>\n",
       "    <tr>\n",
       "      <th>min</th>\n",
       "      <td>0.260000</td>\n",
       "      <td>0.010000</td>\n",
       "    </tr>\n",
       "    <tr>\n",
       "      <th>25%</th>\n",
       "      <td>1.975000</td>\n",
       "      <td>0.780000</td>\n",
       "    </tr>\n",
       "    <tr>\n",
       "      <th>50%</th>\n",
       "      <td>3.570000</td>\n",
       "      <td>1.340000</td>\n",
       "    </tr>\n",
       "    <tr>\n",
       "      <th>75%</th>\n",
       "      <td>8.465000</td>\n",
       "      <td>2.085000</td>\n",
       "    </tr>\n",
       "    <tr>\n",
       "      <th>max</th>\n",
       "      <td>20.790000</td>\n",
       "      <td>4.880000</td>\n",
       "    </tr>\n",
       "  </tbody>\n",
       "</table>\n",
       "</div>"
      ],
      "text/plain": [
       "               X          Y\n",
       "count  79.000000  79.000000\n",
       "mean    5.849747   1.528987\n",
       "std     5.247670   1.012441\n",
       "min     0.260000   0.010000\n",
       "25%     1.975000   0.780000\n",
       "50%     3.570000   1.340000\n",
       "75%     8.465000   2.085000\n",
       "max    20.790000   4.880000"
      ]
     },
     "execution_count": 14,
     "metadata": {},
     "output_type": "execute_result"
    }
   ],
   "source": [
    "baitA.describe()"
   ]
  },
  {
   "cell_type": "code",
   "execution_count": 15,
   "id": "59365fe8",
   "metadata": {},
   "outputs": [
    {
     "data": {
      "text/html": [
       "<div>\n",
       "<style scoped>\n",
       "    .dataframe tbody tr th:only-of-type {\n",
       "        vertical-align: middle;\n",
       "    }\n",
       "\n",
       "    .dataframe tbody tr th {\n",
       "        vertical-align: top;\n",
       "    }\n",
       "\n",
       "    .dataframe thead th {\n",
       "        text-align: right;\n",
       "    }\n",
       "</style>\n",
       "<table border=\"1\" class=\"dataframe\">\n",
       "  <thead>\n",
       "    <tr style=\"text-align: right;\">\n",
       "      <th></th>\n",
       "      <th>X</th>\n",
       "      <th>Y</th>\n",
       "    </tr>\n",
       "  </thead>\n",
       "  <tbody>\n",
       "    <tr>\n",
       "      <th>count</th>\n",
       "      <td>64.000000</td>\n",
       "      <td>64.000000</td>\n",
       "    </tr>\n",
       "    <tr>\n",
       "      <th>mean</th>\n",
       "      <td>10.384219</td>\n",
       "      <td>1.783750</td>\n",
       "    </tr>\n",
       "    <tr>\n",
       "      <th>std</th>\n",
       "      <td>5.702955</td>\n",
       "      <td>1.078417</td>\n",
       "    </tr>\n",
       "    <tr>\n",
       "      <th>min</th>\n",
       "      <td>0.140000</td>\n",
       "      <td>0.160000</td>\n",
       "    </tr>\n",
       "    <tr>\n",
       "      <th>25%</th>\n",
       "      <td>5.280000</td>\n",
       "      <td>0.785000</td>\n",
       "    </tr>\n",
       "    <tr>\n",
       "      <th>50%</th>\n",
       "      <td>10.240000</td>\n",
       "      <td>1.790000</td>\n",
       "    </tr>\n",
       "    <tr>\n",
       "      <th>75%</th>\n",
       "      <td>15.330000</td>\n",
       "      <td>2.405000</td>\n",
       "    </tr>\n",
       "    <tr>\n",
       "      <th>max</th>\n",
       "      <td>20.160000</td>\n",
       "      <td>4.750000</td>\n",
       "    </tr>\n",
       "  </tbody>\n",
       "</table>\n",
       "</div>"
      ],
      "text/plain": [
       "               X          Y\n",
       "count  64.000000  64.000000\n",
       "mean   10.384219   1.783750\n",
       "std     5.702955   1.078417\n",
       "min     0.140000   0.160000\n",
       "25%     5.280000   0.785000\n",
       "50%    10.240000   1.790000\n",
       "75%    15.330000   2.405000\n",
       "max    20.160000   4.750000"
      ]
     },
     "execution_count": 15,
     "metadata": {},
     "output_type": "execute_result"
    }
   ],
   "source": [
    "baitB.describe()"
   ]
  },
  {
   "cell_type": "code",
   "execution_count": 16,
   "id": "c8a44d31",
   "metadata": {},
   "outputs": [
    {
     "data": {
      "text/html": [
       "<div>\n",
       "<style scoped>\n",
       "    .dataframe tbody tr th:only-of-type {\n",
       "        vertical-align: middle;\n",
       "    }\n",
       "\n",
       "    .dataframe tbody tr th {\n",
       "        vertical-align: top;\n",
       "    }\n",
       "\n",
       "    .dataframe thead th {\n",
       "        text-align: right;\n",
       "    }\n",
       "</style>\n",
       "<table border=\"1\" class=\"dataframe\">\n",
       "  <thead>\n",
       "    <tr style=\"text-align: right;\">\n",
       "      <th></th>\n",
       "      <th>X</th>\n",
       "      <th>Y</th>\n",
       "    </tr>\n",
       "  </thead>\n",
       "  <tbody>\n",
       "    <tr>\n",
       "      <th>count</th>\n",
       "      <td>257.000000</td>\n",
       "      <td>257.000000</td>\n",
       "    </tr>\n",
       "    <tr>\n",
       "      <th>mean</th>\n",
       "      <td>10.200350</td>\n",
       "      <td>1.680973</td>\n",
       "    </tr>\n",
       "    <tr>\n",
       "      <th>std</th>\n",
       "      <td>5.585533</td>\n",
       "      <td>1.142795</td>\n",
       "    </tr>\n",
       "    <tr>\n",
       "      <th>min</th>\n",
       "      <td>0.010000</td>\n",
       "      <td>0.010000</td>\n",
       "    </tr>\n",
       "    <tr>\n",
       "      <th>25%</th>\n",
       "      <td>5.690000</td>\n",
       "      <td>0.700000</td>\n",
       "    </tr>\n",
       "    <tr>\n",
       "      <th>50%</th>\n",
       "      <td>10.490000</td>\n",
       "      <td>1.660000</td>\n",
       "    </tr>\n",
       "    <tr>\n",
       "      <th>75%</th>\n",
       "      <td>14.290000</td>\n",
       "      <td>2.460000</td>\n",
       "    </tr>\n",
       "    <tr>\n",
       "      <th>max</th>\n",
       "      <td>22.270000</td>\n",
       "      <td>4.870000</td>\n",
       "    </tr>\n",
       "  </tbody>\n",
       "</table>\n",
       "</div>"
      ],
      "text/plain": [
       "                X           Y\n",
       "count  257.000000  257.000000\n",
       "mean    10.200350    1.680973\n",
       "std      5.585533    1.142795\n",
       "min      0.010000    0.010000\n",
       "25%      5.690000    0.700000\n",
       "50%     10.490000    1.660000\n",
       "75%     14.290000    2.460000\n",
       "max     22.270000    4.870000"
      ]
     },
     "execution_count": 16,
     "metadata": {},
     "output_type": "execute_result"
    }
   ],
   "source": [
    "baitC.describe()"
   ]
  },
  {
   "cell_type": "code",
   "execution_count": 85,
   "id": "e955acf1",
   "metadata": {
    "scrolled": false
   },
   "outputs": [
    {
     "data": {
      "image/png": "[encoded data removed]",
      "text/plain": [
       "<Figure size 1080x360 with 3 Axes>"
      ]
     },
     "metadata": {},
     "output_type": "display_data"
    }
   ],
   "source": [
    "fig, ax = plt.subplots(nrows=1, ncols=3,figsize=(15,5))\n",
    "plt.yticks([5,10,15,20,25])\n",
    "ax[0].hist(baitA[\"X\"], bins = 24, color = 'red' )\n",
    "ax[0].set_yticks([5,10,15,20,25])\n",
    "ax[0].set_xlabel(\"Time of Catch\")\n",
    "ax[0].set_ylabel(\"Count\")\n",
    "ax[0].set_title(\"Histogram of Catching Time with Bait A\")\n",
    "\n",
    "\n",
    "ax[1].hist(baitB[\"X\"], bins = 24, color = 'orange' )\n",
    "ax[1].set_yticks([5,10,15,20,25])\n",
    "ax[1].set_xlabel(\"Time of Catch\")\n",
    "ax[1].set_ylabel(\"Count\")\n",
    "ax[1].set_title(\"Histogram of Catching Time with Bait B\")\n",
    "\n",
    "ax[2].hist(baitC[\"X\"], bins = 24, color = 'blue' )\n",
    "ax[2].set_yticks([5,10,15,20,25])\n",
    "ax[2].set_xlabel(\"Time of Catch\")\n",
    "ax[2].set_ylabel(\"Count\")\n",
    "ax[2].set_title(\"Histogram of Catching Time with Bait C\")\n",
    "\n",
    "plt.savefig(\"Histograms of Catching Time with Different Bait Types\")"
   ]
  },
  {
   "cell_type": "code",
   "execution_count": 86,
   "id": "1f63d7b7",
   "metadata": {},
   "outputs": [
    {
     "data": {
      "image/png": "[encoded data removed]",
      "text/plain": [
       "<Figure size 1080x360 with 3 Axes>"
      ]
     },
     "metadata": {},
     "output_type": "display_data"
    }
   ],
   "source": [
    "fig, ax = plt.subplots(nrows=1, ncols=3,figsize=(15,5))\n",
    "plt.yticks([5,10,15,20,25])\n",
    "ax[0].hist(baitA[\"Y\"], bins = 24, color = 'red' )\n",
    "ax[0].set_yticks([5,10,15,20,25])\n",
    "ax[0].set_xlabel(\"Size of Catch\")\n",
    "ax[0].set_ylabel(\"Count\")\n",
    "ax[0].set_title(\"Histogram of Catching Size with Bait A\")\n",
    "\n",
    "\n",
    "ax[1].hist(baitB[\"Y\"], bins = 24, color = 'orange' )\n",
    "ax[1].set_yticks([5,10,15,20,25])\n",
    "ax[1].set_xlabel(\"Size of Catch\")\n",
    "ax[1].set_ylabel(\"Count\")\n",
    "ax[1].set_title(\"Histogram of Catching Size with Bait B\")\n",
    "\n",
    "ax[2].hist(baitC[\"Y\"], bins = 24, color = 'blue' )\n",
    "ax[2].set_yticks([5,10,15,20,25])\n",
    "ax[2].set_xlabel(\"Size of Catch\")\n",
    "ax[2].set_ylabel(\"Count\")\n",
    "ax[2].set_title(\"Histogram of Catching Size with Bait C\")\n",
    "\n",
    "plt.savefig(\"Histograms of Catching Size with Different Bait Types\")\n"
   ]
  },
  {
   "cell_type": "code",
   "execution_count": 132,
   "id": "43198d63",
   "metadata": {
    "scrolled": false
   },
   "outputs": [
    {
     "name": "stdout",
     "output_type": "stream",
     "text": [
      "        X     Y  Z\n",
      "21  14.03  2.17  C\n",
      "34  14.07  2.25  C\n",
      "14  14.08  1.12  B\n",
      "9   14.09  2.38  C\n",
      "6   14.24  0.66  C\n",
      "20  14.27  2.61  C\n",
      "27  14.29  2.89  C\n",
      "12  14.36  2.84  C\n",
      "36  14.37  2.67  C\n",
      "18  14.43  0.58  B\n",
      "10  14.46  2.89  C\n",
      "3   14.47  1.74  C\n",
      "15  14.59  2.80  C\n",
      "25  14.63  0.04  C\n",
      "35  14.66  0.71  C\n",
      "33  14.76  0.14  C\n",
      "5   14.80  0.15  A\n",
      "17  14.85  2.02  C\n",
      "28  14.87  1.64  C\n",
      "16  14.96  1.87  C\n",
      "1   15.07  2.77  C\n",
      "4   15.07  0.98  C\n",
      "26  15.19  0.43  C\n",
      "24  15.22  2.97  C\n",
      "0   15.25  2.40  B\n",
      "19  15.25  0.42  B\n",
      "11  15.29  1.82  B\n",
      "32  15.33  0.40  A\n",
      "7   15.45  0.94  B\n",
      "31  15.59  1.70  C\n",
      "22  15.70  2.37  B\n",
      "8   15.75  0.97  C\n",
      "29  15.77  0.05  C\n",
      "30  15.82  1.39  B\n",
      "2   15.97  0.65  C\n",
      "23  15.97  2.16  C\n",
      "13  15.98  0.19  A\n"
     ]
    },
    {
     "data": {
      "text/html": [
       "<div>\n",
       "<style scoped>\n",
       "    .dataframe tbody tr th:only-of-type {\n",
       "        vertical-align: middle;\n",
       "    }\n",
       "\n",
       "    .dataframe tbody tr th {\n",
       "        vertical-align: top;\n",
       "    }\n",
       "\n",
       "    .dataframe thead th {\n",
       "        text-align: right;\n",
       "    }\n",
       "</style>\n",
       "<table border=\"1\" class=\"dataframe\">\n",
       "  <thead>\n",
       "    <tr style=\"text-align: right;\">\n",
       "      <th></th>\n",
       "      <th>X</th>\n",
       "      <th>Y</th>\n",
       "    </tr>\n",
       "  </thead>\n",
       "  <tbody>\n",
       "    <tr>\n",
       "      <th>count</th>\n",
       "      <td>37.000000</td>\n",
       "      <td>37.000000</td>\n",
       "    </tr>\n",
       "    <tr>\n",
       "      <th>mean</th>\n",
       "      <td>14.944595</td>\n",
       "      <td>1.534595</td>\n",
       "    </tr>\n",
       "    <tr>\n",
       "      <th>std</th>\n",
       "      <td>0.609356</td>\n",
       "      <td>0.988252</td>\n",
       "    </tr>\n",
       "    <tr>\n",
       "      <th>min</th>\n",
       "      <td>14.030000</td>\n",
       "      <td>0.040000</td>\n",
       "    </tr>\n",
       "    <tr>\n",
       "      <th>25%</th>\n",
       "      <td>14.430000</td>\n",
       "      <td>0.650000</td>\n",
       "    </tr>\n",
       "    <tr>\n",
       "      <th>50%</th>\n",
       "      <td>14.870000</td>\n",
       "      <td>1.700000</td>\n",
       "    </tr>\n",
       "    <tr>\n",
       "      <th>75%</th>\n",
       "      <td>15.330000</td>\n",
       "      <td>2.380000</td>\n",
       "    </tr>\n",
       "    <tr>\n",
       "      <th>max</th>\n",
       "      <td>15.980000</td>\n",
       "      <td>2.970000</td>\n",
       "    </tr>\n",
       "  </tbody>\n",
       "</table>\n",
       "</div>"
      ],
      "text/plain": [
       "               X          Y\n",
       "count  37.000000  37.000000\n",
       "mean   14.944595   1.534595\n",
       "std     0.609356   0.988252\n",
       "min    14.030000   0.040000\n",
       "25%    14.430000   0.650000\n",
       "50%    14.870000   1.700000\n",
       "75%    15.330000   2.380000\n",
       "max    15.980000   2.970000"
      ]
     },
     "execution_count": 132,
     "metadata": {},
     "output_type": "execute_result"
    }
   ],
   "source": [
    "data3 = []\n",
    "k = 0\n",
    "for item in bait0:\n",
    "    sh = item[0]\n",
    "    if sh>14 and sh <16:\n",
    "        data3.append(item)\n",
    "K = pd.DataFrame(data3, columns = [\"X\",\"Y\",\"Z\"])\n",
    "K1 = K.sort_values(axis = 0,ascending = True,by = 'X')\n",
    "print(K1)\n",
    "K.describe()"
   ]
  },
  {
   "cell_type": "code",
   "execution_count": null,
   "id": "0a2628be",
   "metadata": {},
   "outputs": [],
   "source": []
  },
  {
   "cell_type": "code",
   "execution_count": null,
   "id": "5e2749ed",
   "metadata": {},
   "outputs": [],
   "source": []
  },
  {
   "cell_type": "code",
   "execution_count": 114,
   "id": "e16627d9",
   "metadata": {
    "scrolled": false
   },
   "outputs": [
    {
     "name": "stdout",
     "output_type": "stream",
     "text": [
      "       X     Y  Z\n",
      "0   2.93  1.21  A\n",
      "1   4.29  1.84  A\n",
      "2   4.08  1.05  A\n",
      "3   3.11  2.49  A\n",
      "4   5.31  2.06  C\n",
      "..   ...   ... ..\n",
      "78  2.31  2.52  B\n",
      "79  4.90  4.64  C\n",
      "80  5.22  1.26  A\n",
      "81  4.72  2.88  C\n",
      "82  2.63  3.55  C\n",
      "\n",
      "[83 rows x 3 columns]\n",
      "169.04000000000005\n"
     ]
    },
    {
     "data": {
      "image/png": "[encoded data removed]",
      "text/plain": [
       "<Figure size 360x360 with 1 Axes>"
      ]
     },
     "metadata": {},
     "output_type": "display_data"
    }
   ],
   "source": [
    "data1=[]\n",
    "yt1 = 0\n",
    "for item in bait0:\n",
    "    sh = item[0] \n",
    "    y = item[1]\n",
    "    if sh>2.2 and sh < 5.6:\n",
    "       # print(item)\n",
    "        data1.append(item)\n",
    "        yt1 += y\n",
    "bait1 = pd.DataFrame(data1, columns = [\"X\",\"Y\",\"Z\"])\n",
    "print(bait1)\n",
    "F = bait1.values\n",
    "fig, ax = plt.subplots(figsize=(5,5))\n",
    "ax.scatter(F[:,0] ,F[:,1] , c=\"m\", s=2)\n",
    "print(yt1)\n"
   ]
  },
  {
   "cell_type": "code",
   "execution_count": 113,
   "id": "3ca4e789",
   "metadata": {
    "scrolled": false
   },
   "outputs": [
    {
     "name": "stdout",
     "output_type": "stream",
     "text": [
      "        X     Y  Z\n",
      "0   11.07  0.39  C\n",
      "1   12.61  2.92  C\n",
      "2   11.69  2.67  C\n",
      "3   13.26  2.19  C\n",
      "4   11.86  1.92  C\n",
      "..    ...   ... ..\n",
      "74  11.82  2.38  C\n",
      "75  10.46  1.84  C\n",
      "76  12.08  1.27  A\n",
      "77  11.27  1.96  C\n",
      "78  12.38  0.87  C\n",
      "\n",
      "[79 rows x 3 columns]\n",
      "126.45000000000002\n"
     ]
    },
    {
     "data": {
      "image/png": "[encoded data removed]",
      "text/plain": [
       "<Figure size 432x288 with 2 Axes>"
      ]
     },
     "metadata": {},
     "output_type": "display_data"
    },
    {
     "data": {
      "image/png": "[encoded data removed]",
      "text/plain": [
       "<Figure size 432x288 with 1 Axes>"
      ]
     },
     "metadata": {},
     "output_type": "display_data"
    },
    {
     "data": {
      "image/png": "[encoded data removed]",
      "text/plain": [
       "<Figure size 360x360 with 1 Axes>"
      ]
     },
     "metadata": {},
     "output_type": "display_data"
    }
   ],
   "source": [
    "data2=[]\n",
    "yt2 = 0\n",
    "for item in bait0:\n",
    "    sh = item[0] \n",
    "    y = item[1]\n",
    "    if sh>10 and sh < 13.4:\n",
    "       # print(item)\n",
    "        data2.append(item)\n",
    "        yt2 += y\n",
    "bait2 = pd.DataFrame(data2, columns = [\"X\",\"Y\",\"Z\"])\n",
    "print(bait2)\n",
    "bait2.hist(bins = 50) \n",
    "bait2.hist(column = \"Y\", grid = False, bins = 50) \n",
    "E = bait2.values\n",
    "fig, ax = plt.subplots(figsize=(5,5))\n",
    "ax.scatter(E[:,0] ,E[:,1] , c=\"m\", s=2)\n",
    "print(yt2)\n"
   ]
  },
  {
   "cell_type": "code",
   "execution_count": 120,
   "id": "2865b5dc",
   "metadata": {},
   "outputs": [
    {
     "data": {
      "image/png": "[encoded data removed]",
      "text/plain": [
       "<Figure size 360x360 with 1 Axes>"
      ]
     },
     "metadata": {},
     "output_type": "display_data"
    }
   ],
   "source": [
    "fig, ax = plt.subplots(figsize=(5,5))\n",
    "ax.scatter(A[:,0] ,A[:,1] , c=\"red\", s=10)\n",
    "ax.set_xlabel(\"Time of Catch\")\n",
    "ax.set_ylabel(\"Size of Catch\")\n",
    "ax.set_title(\"The Catching Data Distribution with Bait A\")\n",
    "plt.savefig(\"The Catching Data Distribution with Bait A.png\")"
   ]
  },
  {
   "cell_type": "code",
   "execution_count": 121,
   "id": "5b28f3ff",
   "metadata": {},
   "outputs": [
    {
     "data": {
      "image/png": "[encoded data removed]",
      "text/plain": [
       "<Figure size 360x360 with 1 Axes>"
      ]
     },
     "metadata": {},
     "output_type": "display_data"
    }
   ],
   "source": [
    "fig, ax = plt.subplots(figsize=(5,5))\n",
    "ax.scatter(B[:,0] ,B[:,1] , c=\"orange\", s=10)\n",
    "ax.set_xlabel(\"Time of Catch\")\n",
    "ax.set_ylabel(\"Size of Catch\")\n",
    "ax.set_title(\"The Catching Data Distribution with Bait B\")\n",
    "plt.savefig(\"The Catching Data Distribution with Bait B.png\")"
   ]
  },
  {
   "cell_type": "code",
   "execution_count": 122,
   "id": "352eef1d",
   "metadata": {},
   "outputs": [
    {
     "data": {
      "image/png": "[encoded data removed]",
      "text/plain": [
       "<Figure size 360x360 with 1 Axes>"
      ]
     },
     "metadata": {},
     "output_type": "display_data"
    }
   ],
   "source": [
    "fig, ax = plt.subplots(figsize=(5,5))\n",
    "ax.scatter(C[:,0] ,C[:,1] , c=\"blue\", s=10)\n",
    "ax.set_xlabel(\"Time of Catch\")\n",
    "ax.set_ylabel(\"Size of Catch\")\n",
    "ax.set_title(\"The Catching Data Distribution with Bait C\")\n",
    "plt.savefig(\"The Catching Data Distribution with Bait C.png\")"
   ]
  },
  {
   "cell_type": "code",
   "execution_count": 142,
   "id": "fa1cc20e",
   "metadata": {},
   "outputs": [
    {
     "name": "stdout",
     "output_type": "stream",
     "text": [
      "        X     Y  Z\n",
      "13   4.81  0.01  C\n",
      "123  5.10  0.05  C\n",
      "74   0.76  0.11  C\n",
      "26   2.18  0.15  C\n",
      "106  2.34  0.19  A\n",
      "..    ...   ... ..\n",
      "72   5.50  4.64  C\n",
      "128  4.90  4.64  C\n",
      "17   2.44  4.66  C\n",
      "80   0.56  4.87  C\n",
      "92   3.16  4.88  A\n",
      "\n",
      "[132 rows x 3 columns]\n"
     ]
    },
    {
     "data": {
      "text/html": [
       "<div>\n",
       "<style scoped>\n",
       "    .dataframe tbody tr th:only-of-type {\n",
       "        vertical-align: middle;\n",
       "    }\n",
       "\n",
       "    .dataframe tbody tr th {\n",
       "        vertical-align: top;\n",
       "    }\n",
       "\n",
       "    .dataframe thead th {\n",
       "        text-align: right;\n",
       "    }\n",
       "</style>\n",
       "<table border=\"1\" class=\"dataframe\">\n",
       "  <thead>\n",
       "    <tr style=\"text-align: right;\">\n",
       "      <th></th>\n",
       "      <th>X</th>\n",
       "      <th>Y</th>\n",
       "    </tr>\n",
       "  </thead>\n",
       "  <tbody>\n",
       "    <tr>\n",
       "      <th>count</th>\n",
       "      <td>132.000000</td>\n",
       "      <td>132.000000</td>\n",
       "    </tr>\n",
       "    <tr>\n",
       "      <th>mean</th>\n",
       "      <td>2.924697</td>\n",
       "      <td>1.966515</td>\n",
       "    </tr>\n",
       "    <tr>\n",
       "      <th>std</th>\n",
       "      <td>1.596148</td>\n",
       "      <td>1.199101</td>\n",
       "    </tr>\n",
       "    <tr>\n",
       "      <th>min</th>\n",
       "      <td>0.010000</td>\n",
       "      <td>0.010000</td>\n",
       "    </tr>\n",
       "    <tr>\n",
       "      <th>25%</th>\n",
       "      <td>1.505000</td>\n",
       "      <td>1.035000</td>\n",
       "    </tr>\n",
       "    <tr>\n",
       "      <th>50%</th>\n",
       "      <td>2.980000</td>\n",
       "      <td>1.815000</td>\n",
       "    </tr>\n",
       "    <tr>\n",
       "      <th>75%</th>\n",
       "      <td>4.295000</td>\n",
       "      <td>2.617500</td>\n",
       "    </tr>\n",
       "    <tr>\n",
       "      <th>max</th>\n",
       "      <td>5.600000</td>\n",
       "      <td>4.880000</td>\n",
       "    </tr>\n",
       "  </tbody>\n",
       "</table>\n",
       "</div>"
      ],
      "text/plain": [
       "                X           Y\n",
       "count  132.000000  132.000000\n",
       "mean     2.924697    1.966515\n",
       "std      1.596148    1.199101\n",
       "min      0.010000    0.010000\n",
       "25%      1.505000    1.035000\n",
       "50%      2.980000    1.815000\n",
       "75%      4.295000    2.617500\n",
       "max      5.600000    4.880000"
      ]
     },
     "execution_count": 142,
     "metadata": {},
     "output_type": "execute_result"
    }
   ],
   "source": [
    "dataI = []\n",
    "k = 0\n",
    "for item in bait0:\n",
    "    sh = item[0]\n",
    "    if sh >0 and sh<5.69:\n",
    "        dataI.append(item)\n",
    "I = pd.DataFrame(dataI, columns = [\"X\",\"Y\",\"Z\"])\n",
    "I1 = I.sort_values(axis = 0,ascending = True,by = 'Y')\n",
    "print(I1)\n",
    "I1.describe()"
   ]
  },
  {
   "cell_type": "code",
   "execution_count": 143,
   "id": "1c2ff0d6",
   "metadata": {
    "scrolled": true
   },
   "outputs": [
    {
     "name": "stdout",
     "output_type": "stream",
     "text": [
      "         X     Y  Z\n",
      "56    8.58  0.04  C\n",
      "103   7.18  0.05  C\n",
      "101   9.13  0.09  C\n",
      "21    7.77  0.11  C\n",
      "91    9.79  0.11  A\n",
      "..     ...   ... ..\n",
      "108  10.92  2.87  B\n",
      "83    8.52  2.90  C\n",
      "62    8.84  3.92  C\n",
      "85    7.05  4.66  B\n",
      "60   10.90  4.75  C\n",
      "\n",
      "[124 rows x 3 columns]\n"
     ]
    },
    {
     "data": {
      "text/html": [
       "<div>\n",
       "<style scoped>\n",
       "    .dataframe tbody tr th:only-of-type {\n",
       "        vertical-align: middle;\n",
       "    }\n",
       "\n",
       "    .dataframe tbody tr th {\n",
       "        vertical-align: top;\n",
       "    }\n",
       "\n",
       "    .dataframe thead th {\n",
       "        text-align: right;\n",
       "    }\n",
       "</style>\n",
       "<table border=\"1\" class=\"dataframe\">\n",
       "  <thead>\n",
       "    <tr style=\"text-align: right;\">\n",
       "      <th></th>\n",
       "      <th>X</th>\n",
       "      <th>Y</th>\n",
       "    </tr>\n",
       "  </thead>\n",
       "  <tbody>\n",
       "    <tr>\n",
       "      <th>count</th>\n",
       "      <td>124.000000</td>\n",
       "      <td>124.000000</td>\n",
       "    </tr>\n",
       "    <tr>\n",
       "      <th>mean</th>\n",
       "      <td>8.772258</td>\n",
       "      <td>1.413548</td>\n",
       "    </tr>\n",
       "    <tr>\n",
       "      <th>std</th>\n",
       "      <td>1.735794</td>\n",
       "      <td>1.000438</td>\n",
       "    </tr>\n",
       "    <tr>\n",
       "      <th>min</th>\n",
       "      <td>5.690000</td>\n",
       "      <td>0.040000</td>\n",
       "    </tr>\n",
       "    <tr>\n",
       "      <th>25%</th>\n",
       "      <td>7.340000</td>\n",
       "      <td>0.565000</td>\n",
       "    </tr>\n",
       "    <tr>\n",
       "      <th>50%</th>\n",
       "      <td>8.730000</td>\n",
       "      <td>1.385000</td>\n",
       "    </tr>\n",
       "    <tr>\n",
       "      <th>75%</th>\n",
       "      <td>10.422500</td>\n",
       "      <td>2.040000</td>\n",
       "    </tr>\n",
       "    <tr>\n",
       "      <th>max</th>\n",
       "      <td>11.310000</td>\n",
       "      <td>4.750000</td>\n",
       "    </tr>\n",
       "  </tbody>\n",
       "</table>\n",
       "</div>"
      ],
      "text/plain": [
       "                X           Y\n",
       "count  124.000000  124.000000\n",
       "mean     8.772258    1.413548\n",
       "std      1.735794    1.000438\n",
       "min      5.690000    0.040000\n",
       "25%      7.340000    0.565000\n",
       "50%      8.730000    1.385000\n",
       "75%     10.422500    2.040000\n",
       "max     11.310000    4.750000"
      ]
     },
     "execution_count": 143,
     "metadata": {},
     "output_type": "execute_result"
    }
   ],
   "source": [
    "dataII = []\n",
    "for item in bait0:\n",
    "    sh = item[0]\n",
    "    if sh >=5.69 and sh<11.38:\n",
    "        dataII.append(item)\n",
    "II = pd.DataFrame(dataII, columns = [\"X\",\"Y\",\"Z\"])\n",
    "II1 = II.sort_values(axis = 0,ascending = True,by = 'Y')\n",
    "print(II1)\n",
    "II1.describe()"
   ]
  },
  {
   "cell_type": "code",
   "execution_count": 145,
   "id": "50054ef3",
   "metadata": {
    "scrolled": true
   },
   "outputs": [
    {
     "name": "stdout",
     "output_type": "stream",
     "text": [
      "        X     Y  Z\n",
      "64  14.63  0.04  C\n",
      "69  15.77  0.05  C\n",
      "82  16.01  0.10  C\n",
      "62  16.15  0.11  C\n",
      "38  12.84  0.13  A\n",
      "..    ...   ... ..\n",
      "63  15.22  2.97  C\n",
      "65  11.39  2.98  A\n",
      "70  12.09  4.18  C\n",
      "45  12.74  4.40  B\n",
      "53  16.18  4.43  C\n",
      "\n",
      "[90 rows x 3 columns]\n"
     ]
    },
    {
     "data": {
      "text/html": [
       "<div>\n",
       "<style scoped>\n",
       "    .dataframe tbody tr th:only-of-type {\n",
       "        vertical-align: middle;\n",
       "    }\n",
       "\n",
       "    .dataframe tbody tr th {\n",
       "        vertical-align: top;\n",
       "    }\n",
       "\n",
       "    .dataframe thead th {\n",
       "        text-align: right;\n",
       "    }\n",
       "</style>\n",
       "<table border=\"1\" class=\"dataframe\">\n",
       "  <thead>\n",
       "    <tr style=\"text-align: right;\">\n",
       "      <th></th>\n",
       "      <th>X</th>\n",
       "      <th>Y</th>\n",
       "    </tr>\n",
       "  </thead>\n",
       "  <tbody>\n",
       "    <tr>\n",
       "      <th>count</th>\n",
       "      <td>90.000000</td>\n",
       "      <td>90.000000</td>\n",
       "    </tr>\n",
       "    <tr>\n",
       "      <th>mean</th>\n",
       "      <td>13.866444</td>\n",
       "      <td>1.626222</td>\n",
       "    </tr>\n",
       "    <tr>\n",
       "      <th>std</th>\n",
       "      <td>1.545499</td>\n",
       "      <td>1.004642</td>\n",
       "    </tr>\n",
       "    <tr>\n",
       "      <th>min</th>\n",
       "      <td>11.390000</td>\n",
       "      <td>0.040000</td>\n",
       "    </tr>\n",
       "    <tr>\n",
       "      <th>25%</th>\n",
       "      <td>12.545000</td>\n",
       "      <td>0.742500</td>\n",
       "    </tr>\n",
       "    <tr>\n",
       "      <th>50%</th>\n",
       "      <td>13.900000</td>\n",
       "      <td>1.660000</td>\n",
       "    </tr>\n",
       "    <tr>\n",
       "      <th>75%</th>\n",
       "      <td>15.160000</td>\n",
       "      <td>2.365000</td>\n",
       "    </tr>\n",
       "    <tr>\n",
       "      <th>max</th>\n",
       "      <td>17.060000</td>\n",
       "      <td>4.430000</td>\n",
       "    </tr>\n",
       "  </tbody>\n",
       "</table>\n",
       "</div>"
      ],
      "text/plain": [
       "               X          Y\n",
       "count  90.000000  90.000000\n",
       "mean   13.866444   1.626222\n",
       "std     1.545499   1.004642\n",
       "min    11.390000   0.040000\n",
       "25%    12.545000   0.742500\n",
       "50%    13.900000   1.660000\n",
       "75%    15.160000   2.365000\n",
       "max    17.060000   4.430000"
      ]
     },
     "execution_count": 145,
     "metadata": {},
     "output_type": "execute_result"
    }
   ],
   "source": [
    "dataIII = []\n",
    "for item in bait0:\n",
    "    sh = item[0]\n",
    "    if sh >=11.38 and sh<17.07:\n",
    "        dataIII.append(item)\n",
    "III = pd.DataFrame(dataIII, columns = [\"X\",\"Y\",\"Z\"])\n",
    "III1 = III.sort_values(axis = 0,ascending = True,by = 'Y')\n",
    "print(III1)\n",
    "III1.describe()"
   ]
  },
  {
   "cell_type": "code",
   "execution_count": 146,
   "id": "d9586cd2",
   "metadata": {
    "scrolled": true
   },
   "outputs": [
    {
     "name": "stdout",
     "output_type": "stream",
     "text": [
      "        X     Y  Z\n",
      "50  17.24  0.01  C\n",
      "42  20.79  0.01  A\n",
      "2   19.30  0.11  C\n",
      "35  19.39  0.13  C\n",
      "47  17.89  0.20  C\n",
      "39  22.27  0.29  C\n",
      "23  17.65  0.30  C\n",
      "30  17.26  0.33  C\n",
      "46  18.92  0.33  C\n",
      "11  17.41  0.34  C\n",
      "10  17.07  0.41  B\n",
      "4   20.90  0.49  C\n",
      "1   18.95  0.49  C\n",
      "9   18.41  0.62  C\n",
      "7   18.26  0.67  B\n",
      "5   19.73  0.77  B\n",
      "29  22.26  0.77  C\n",
      "17  18.59  0.82  C\n",
      "48  17.27  0.85  B\n",
      "25  18.19  0.87  B\n",
      "43  18.36  0.98  A\n",
      "8   18.91  1.00  C\n",
      "21  18.48  1.07  C\n",
      "22  19.95  1.30  A\n",
      "13  21.01  1.37  C\n",
      "16  22.11  1.43  C\n",
      "52  20.90  1.46  C\n",
      "49  17.78  1.49  C\n",
      "28  17.30  1.58  B\n",
      "6   20.97  1.73  C\n",
      "51  18.47  1.89  C\n",
      "32  19.72  1.91  C\n",
      "27  19.35  1.91  C\n",
      "31  18.22  1.92  A\n",
      "40  22.20  2.03  C\n",
      "14  17.23  2.05  C\n",
      "33  17.58  2.05  B\n",
      "41  18.40  2.29  B\n",
      "36  17.56  2.35  B\n",
      "19  17.97  2.42  C\n",
      "34  17.24  2.46  C\n",
      "24  17.23  2.57  C\n",
      "20  21.34  2.58  C\n",
      "38  20.16  2.66  B\n",
      "26  19.77  2.72  B\n",
      "12  17.37  2.78  C\n",
      "53  17.57  2.82  C\n",
      "44  19.10  2.88  C\n",
      "3   21.32  2.94  C\n",
      "18  18.06  2.95  C\n",
      "45  18.48  2.97  C\n",
      "37  18.66  2.99  C\n",
      "15  20.99  4.63  C\n",
      "0   18.90  4.75  B\n"
     ]
    },
    {
     "data": {
      "text/html": [
       "<div>\n",
       "<style scoped>\n",
       "    .dataframe tbody tr th:only-of-type {\n",
       "        vertical-align: middle;\n",
       "    }\n",
       "\n",
       "    .dataframe tbody tr th {\n",
       "        vertical-align: top;\n",
       "    }\n",
       "\n",
       "    .dataframe thead th {\n",
       "        text-align: right;\n",
       "    }\n",
       "</style>\n",
       "<table border=\"1\" class=\"dataframe\">\n",
       "  <thead>\n",
       "    <tr style=\"text-align: right;\">\n",
       "      <th></th>\n",
       "      <th>X</th>\n",
       "      <th>Y</th>\n",
       "    </tr>\n",
       "  </thead>\n",
       "  <tbody>\n",
       "    <tr>\n",
       "      <th>count</th>\n",
       "      <td>54.000000</td>\n",
       "      <td>54.000000</td>\n",
       "    </tr>\n",
       "    <tr>\n",
       "      <th>mean</th>\n",
       "      <td>19.007593</td>\n",
       "      <td>1.587778</td>\n",
       "    </tr>\n",
       "    <tr>\n",
       "      <th>std</th>\n",
       "      <td>1.539576</td>\n",
       "      <td>1.135949</td>\n",
       "    </tr>\n",
       "    <tr>\n",
       "      <th>min</th>\n",
       "      <td>17.070000</td>\n",
       "      <td>0.010000</td>\n",
       "    </tr>\n",
       "    <tr>\n",
       "      <th>25%</th>\n",
       "      <td>17.682500</td>\n",
       "      <td>0.632500</td>\n",
       "    </tr>\n",
       "    <tr>\n",
       "      <th>50%</th>\n",
       "      <td>18.535000</td>\n",
       "      <td>1.475000</td>\n",
       "    </tr>\n",
       "    <tr>\n",
       "      <th>75%</th>\n",
       "      <td>19.905000</td>\n",
       "      <td>2.450000</td>\n",
       "    </tr>\n",
       "    <tr>\n",
       "      <th>max</th>\n",
       "      <td>22.270000</td>\n",
       "      <td>4.750000</td>\n",
       "    </tr>\n",
       "  </tbody>\n",
       "</table>\n",
       "</div>"
      ],
      "text/plain": [
       "               X          Y\n",
       "count  54.000000  54.000000\n",
       "mean   19.007593   1.587778\n",
       "std     1.539576   1.135949\n",
       "min    17.070000   0.010000\n",
       "25%    17.682500   0.632500\n",
       "50%    18.535000   1.475000\n",
       "75%    19.905000   2.450000\n",
       "max    22.270000   4.750000"
      ]
     },
     "execution_count": 146,
     "metadata": {},
     "output_type": "execute_result"
    }
   ],
   "source": [
    "dataIIII = []\n",
    "for item in bait0:\n",
    "    sh = item[0]\n",
    "    if sh >=17.07 and sh<22.76:\n",
    "        dataIIII.append(item)\n",
    "IIII = pd.DataFrame(dataIIII, columns = [\"X\",\"Y\",\"Z\"])\n",
    "IIII1 = IIII.sort_values(axis = 0,ascending = True,by = 'Y')\n",
    "print(IIII1)\n",
    "IIII1.describe()"
   ]
  },
  {
   "cell_type": "code",
   "execution_count": 147,
   "id": "df92b73f",
   "metadata": {},
   "outputs": [
    {
     "data": {
      "text/html": [
       "<div>\n",
       "<style scoped>\n",
       "    .dataframe tbody tr th:only-of-type {\n",
       "        vertical-align: middle;\n",
       "    }\n",
       "\n",
       "    .dataframe tbody tr th {\n",
       "        vertical-align: top;\n",
       "    }\n",
       "\n",
       "    .dataframe thead th {\n",
       "        text-align: right;\n",
       "    }\n",
       "</style>\n",
       "<table border=\"1\" class=\"dataframe\">\n",
       "  <thead>\n",
       "    <tr style=\"text-align: right;\">\n",
       "      <th></th>\n",
       "      <th>X</th>\n",
       "      <th>Y</th>\n",
       "    </tr>\n",
       "  </thead>\n",
       "  <tbody>\n",
       "    <tr>\n",
       "      <th>count</th>\n",
       "      <td>54.000000</td>\n",
       "      <td>54.000000</td>\n",
       "    </tr>\n",
       "    <tr>\n",
       "      <th>mean</th>\n",
       "      <td>19.007593</td>\n",
       "      <td>1.587778</td>\n",
       "    </tr>\n",
       "    <tr>\n",
       "      <th>std</th>\n",
       "      <td>1.539576</td>\n",
       "      <td>1.135949</td>\n",
       "    </tr>\n",
       "    <tr>\n",
       "      <th>min</th>\n",
       "      <td>17.070000</td>\n",
       "      <td>0.010000</td>\n",
       "    </tr>\n",
       "    <tr>\n",
       "      <th>25%</th>\n",
       "      <td>17.682500</td>\n",
       "      <td>0.632500</td>\n",
       "    </tr>\n",
       "    <tr>\n",
       "      <th>50%</th>\n",
       "      <td>18.535000</td>\n",
       "      <td>1.475000</td>\n",
       "    </tr>\n",
       "    <tr>\n",
       "      <th>75%</th>\n",
       "      <td>19.905000</td>\n",
       "      <td>2.450000</td>\n",
       "    </tr>\n",
       "    <tr>\n",
       "      <th>max</th>\n",
       "      <td>22.270000</td>\n",
       "      <td>4.750000</td>\n",
       "    </tr>\n",
       "  </tbody>\n",
       "</table>\n",
       "</div>"
      ],
      "text/plain": [
       "               X          Y\n",
       "count  54.000000  54.000000\n",
       "mean   19.007593   1.587778\n",
       "std     1.539576   1.135949\n",
       "min    17.070000   0.010000\n",
       "25%    17.682500   0.632500\n",
       "50%    18.535000   1.475000\n",
       "75%    19.905000   2.450000\n",
       "max    22.270000   4.750000"
      ]
     },
     "execution_count": 147,
     "metadata": {},
     "output_type": "execute_result"
    }
   ],
   "source": [
    "I1.describe()\n",
    "II1.describe()\n",
    "III1.describe()\n",
    "IIII1.describe()"
   ]
  },
  {
   "cell_type": "code",
   "execution_count": null,
   "id": "b1c1984f",
   "metadata": {},
   "outputs": [],
   "source": []
  }
 ],
 "metadata": {
  "kernelspec": {
   "display_name": "Python 3",
   "language": "python",
   "name": "python3"
  },
  "language_info": {
   "codemirror_mode": {
    "name": "ipython",
    "version": 3
   },
   "file_extension": ".py",
   "mimetype": "text/x-python",
   "name": "python",
   "nbconvert_exporter": "python",
   "pygments_lexer": "ipython3",
   "version": "3.8.8"
  }
 },
 "nbformat": 4,
 "nbformat_minor": 5
}
